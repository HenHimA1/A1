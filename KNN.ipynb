{
  "nbformat": 4,
  "nbformat_minor": 0,
  "metadata": {
    "colab": {
      "name": "KNN.ipynb",
      "provenance": [],
      "authorship_tag": "ABX9TyNEtddYKRGxasa+d9bQ1rhW",
      "include_colab_link": true
    },
    "kernelspec": {
      "name": "python3",
      "display_name": "Python 3"
    }
  },
  "cells": [
    {
      "cell_type": "markdown",
      "metadata": {
        "id": "view-in-github",
        "colab_type": "text"
      },
      "source": [
        "<a href=\"https://colab.research.google.com/github/HenHimA1/A1/blob/master/KNN.ipynb\" target=\"_parent\"><img src=\"https://colab.research.google.com/assets/colab-badge.svg\" alt=\"Open In Colab\"/></a>"
      ]
    },
    {
      "cell_type": "markdown",
      "metadata": {
        "id": "uSwLL5VXGXJk",
        "colab_type": "text"
      },
      "source": [
        "Import Library Python"
      ]
    },
    {
      "cell_type": "code",
      "metadata": {
        "id": "LEJwRFSK-fCT",
        "colab_type": "code",
        "colab": {}
      },
      "source": [
        "from sklearn.neighbors import KNeighborsClassifier\n",
        "from sklearn.metrics import accuracy_score\n",
        "from sklearn.model_selection import train_test_split\n",
        "import numpy as np\n",
        "import pandas as pd\n",
        "import matplotlib.pyplot as plt\n",
        "import matplotlib.dates as md"
      ],
      "execution_count": 75,
      "outputs": []
    },
    {
      "cell_type": "markdown",
      "metadata": {
        "id": "p__E6s4MGbiv",
        "colab_type": "text"
      },
      "source": [
        "Import dataset dengan pandas"
      ]
    },
    {
      "cell_type": "code",
      "metadata": {
        "id": "fB0oecDc-oja",
        "colab_type": "code",
        "colab": {}
      },
      "source": [
        "inputan1 = pd.read_csv(\"/content/lampu3 (1).csv\", delimiter=\";\")\n",
        "inputan2 = pd.read_excel(\"/content/ubah1lampu.xlsx\")\n",
        "outputan = pd.read_excel(\"/content/lampcombination.xlsx\")"
      ],
      "execution_count": 76,
      "outputs": []
    },
    {
      "cell_type": "markdown",
      "metadata": {
        "id": "YriiZxyeGeMn",
        "colab_type": "text"
      },
      "source": [
        "Menampilkan jumlah data"
      ]
    },
    {
      "cell_type": "code",
      "metadata": {
        "id": "_Oxi1HR--3Hc",
        "colab_type": "code",
        "colab": {
          "base_uri": "https://localhost:8080/",
          "height": 68
        },
        "outputId": "e857bddf-ff06-4a51-9135-255f34cb50e9"
      },
      "source": [
        "print(inputan1.shape)\n",
        "print(inputan2.shape)\n",
        "print(outputan.shape)"
      ],
      "execution_count": 77,
      "outputs": [
        {
          "output_type": "stream",
          "text": [
            "(4799, 2)\n",
            "(935, 5)\n",
            "(4799, 7)\n"
          ],
          "name": "stdout"
        }
      ]
    },
    {
      "cell_type": "markdown",
      "metadata": {
        "id": "PkqsFtxPGiCZ",
        "colab_type": "text"
      },
      "source": [
        "Mengambil data power sebagai input"
      ]
    },
    {
      "cell_type": "code",
      "metadata": {
        "id": "jJgHsDxZBur0",
        "colab_type": "code",
        "colab": {}
      },
      "source": [
        "X_inputan1 = inputan1.iloc[:,0].tolist()\n",
        "X_inp1 = np.array(X_inputan1)\n",
        "X_inp1 = X_inp1.reshape(-1,1)"
      ],
      "execution_count": 78,
      "outputs": []
    },
    {
      "cell_type": "markdown",
      "metadata": {
        "id": "Qaqqe7uWGrCO",
        "colab_type": "text"
      },
      "source": [
        "Mengambil data nyala lampu sebagai output"
      ]
    },
    {
      "cell_type": "code",
      "metadata": {
        "id": "EmJJftrxCHxD",
        "colab_type": "code",
        "colab": {}
      },
      "source": [
        "Y_outputan = outputan.iloc[:,2:7]\n",
        "Y_out = np.array(Y_outputan)"
      ],
      "execution_count": 79,
      "outputs": []
    },
    {
      "cell_type": "markdown",
      "metadata": {
        "id": "ZAnd8tytG5BW",
        "colab_type": "text"
      },
      "source": [
        "Karena output an berupa nyala lampu, maka nilai output an dirubah kedalam bentuk integer. contoh jika output an berupa nyala lampu 2 dan 5 maka output an menjadi \n",
        "**[0, 1, 0, 0, 1]**. Jika diubah dalam bentu integer maka output berupa **[0 X 2^0, 0 X 2^1, 0 X 2^2, 0 X 2^3, 1 X 2^4] = 18**"
      ]
    },
    {
      "cell_type": "code",
      "metadata": {
        "id": "QXAujSbDGLR5",
        "colab_type": "code",
        "colab": {}
      },
      "source": [
        "Y = []\n",
        "for i in range(Y_out.shape[0]):\n",
        "  Y_now = Y_out[i,:]\n",
        "  res = int(\"\".join(str(x) for x in Y_now), 2)\n",
        "  Y.append(res) \n",
        "Y_out = np.array(Y)"
      ],
      "execution_count": 80,
      "outputs": []
    },
    {
      "cell_type": "markdown",
      "metadata": {
        "id": "5qWcqVugIWe1",
        "colab_type": "text"
      },
      "source": [
        "Menampilkan unique output dan jumlahnya (array pertama nilai unique dan array kedua jumlah nilai unique)"
      ]
    },
    {
      "cell_type": "code",
      "metadata": {
        "id": "fDEkgRBOIUM9",
        "colab_type": "code",
        "colab": {
          "base_uri": "https://localhost:8080/",
          "height": 102
        },
        "outputId": "bee37b72-cdf6-4693-ac69-9ddfd2c7c03d"
      },
      "source": [
        "np.unique(Y_out,return_counts=True)"
      ],
      "execution_count": 81,
      "outputs": [
        {
          "output_type": "execute_result",
          "data": {
            "text/plain": [
              "(array([ 0,  1,  2,  3,  4,  5,  6,  7,  8,  9, 10, 11, 12, 13, 14, 15, 16,\n",
              "        17, 18, 19, 20, 22, 23, 24, 25, 27, 28, 29, 30, 31]),\n",
              " array([149, 150, 150, 150, 150, 150, 150, 150, 150, 150, 150, 150, 150,\n",
              "        150, 150, 150, 150, 300, 150, 150, 150, 150, 150, 150, 300, 150,\n",
              "        150, 150, 150, 150]))"
            ]
          },
          "metadata": {
            "tags": []
          },
          "execution_count": 81
        }
      ]
    },
    {
      "cell_type": "markdown",
      "metadata": {
        "id": "zXehT6Q9Jttj",
        "colab_type": "text"
      },
      "source": [
        "Kemudian pisahkan antara data training dengan data testing (data testing tiga puluh persen dari data training)"
      ]
    },
    {
      "cell_type": "code",
      "metadata": {
        "id": "jV0wzPPiJ1ln",
        "colab_type": "code",
        "colab": {}
      },
      "source": [
        "X_train, X_test, y_train, y_test = train_test_split(X_inp1, Y_out, test_size=0.30, random_state=42)"
      ],
      "execution_count": 82,
      "outputs": []
    },
    {
      "cell_type": "markdown",
      "metadata": {
        "id": "3bZY-6baI4yI",
        "colab_type": "text"
      },
      "source": [
        "Masukkan input dan output ke dalam fungsi KNN"
      ]
    },
    {
      "cell_type": "code",
      "metadata": {
        "id": "NMQfISduI36I",
        "colab_type": "code",
        "colab": {
          "base_uri": "https://localhost:8080/",
          "height": 68
        },
        "outputId": "46599832-9e0e-4e42-d18d-64490fa36d73"
      },
      "source": [
        "jumlah_n = len(np.unique(Y_out))\n",
        "fungsi_knn = KNeighborsClassifier(n_neighbors=jumlah_n)\n",
        "fungsi_knn.fit(X_train,y_train)"
      ],
      "execution_count": 83,
      "outputs": [
        {
          "output_type": "execute_result",
          "data": {
            "text/plain": [
              "KNeighborsClassifier(algorithm='auto', leaf_size=30, metric='minkowski',\n",
              "                     metric_params=None, n_jobs=None, n_neighbors=30, p=2,\n",
              "                     weights='uniform')"
            ]
          },
          "metadata": {
            "tags": []
          },
          "execution_count": 83
        }
      ]
    },
    {
      "cell_type": "markdown",
      "metadata": {
        "id": "vGonkjFVKUbX",
        "colab_type": "text"
      },
      "source": [
        "Uji coba model dengan data testing"
      ]
    },
    {
      "cell_type": "code",
      "metadata": {
        "id": "79s_Q24EKOaA",
        "colab_type": "code",
        "colab": {
          "base_uri": "https://localhost:8080/",
          "height": 34
        },
        "outputId": "91b3c3d1-d307-4916-cf29-75cf7b687f16"
      },
      "source": [
        "prediksi = fungsi_knn.predict(X_test)\n",
        "accuracy_score(y_test, prediksi)"
      ],
      "execution_count": 84,
      "outputs": [
        {
          "output_type": "execute_result",
          "data": {
            "text/plain": [
              "0.9791666666666666"
            ]
          },
          "metadata": {
            "tags": []
          },
          "execution_count": 84
        }
      ]
    }
  ]
}