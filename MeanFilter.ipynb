{
  "nbformat": 4,
  "nbformat_minor": 0,
  "metadata": {
    "colab": {
      "name": "MeanFilter.ipynb",
      "provenance": [],
      "collapsed_sections": [],
      "authorship_tag": "ABX9TyPv5eptgk4xLkMGNxTDjHXy",
      "include_colab_link": true
    },
    "kernelspec": {
      "name": "python3",
      "display_name": "Python 3"
    },
    "language_info": {
      "name": "python"
    }
  },
  "cells": [
    {
      "cell_type": "markdown",
      "metadata": {
        "id": "view-in-github",
        "colab_type": "text"
      },
      "source": [
        "<a href=\"https://colab.research.google.com/github/HenHimA1/A1/blob/master/MeanFilter.ipynb\" target=\"_parent\"><img src=\"https://colab.research.google.com/assets/colab-badge.svg\" alt=\"Open In Colab\"/></a>"
      ]
    },
    {
      "cell_type": "code",
      "metadata": {
        "id": "PAkX9dZTacAE"
      },
      "source": [
        "import numpy as np"
      ],
      "execution_count": 107,
      "outputs": []
    },
    {
      "cell_type": "code",
      "metadata": {
        "id": "LhMM8Pg2aCZl"
      },
      "source": [
        "a = [[7, 10, 2, 13, 10, 11, 5, 8, 15],\n",
        "     [14, 6, 1, 11, 6, 9, 13, 6, 14],\n",
        "     [2, 1, 5, 11, 1, 15, 15, 6, 5],\n",
        "     [7, 11, 15, 9, 4, 8, 7, 15, 14],\n",
        "     [11, 1, 13, 14, 9, 5, 8, 12, 9],\n",
        "     [5, 6, 1, 3, 3, 7, 5, 12, 9],\n",
        "     [10, 7, 5, 14, 8, 4, 6, 15, 3],\n",
        "     [2, 6, 5, 4, 11, 12, 6, 14, 10],\n",
        "     [11, 5, 7, 1, 6, 1, 14, 15, 9]]"
      ],
      "execution_count": 108,
      "outputs": []
    },
    {
      "cell_type": "code",
      "metadata": {
        "colab": {
          "base_uri": "https://localhost:8080/"
        },
        "id": "meXi0AgUecpy",
        "outputId": "0242eea2-9c31-49fc-fe5b-b887de68e07d"
      },
      "source": [
        "A = np.array(a)\n",
        "A.shape"
      ],
      "execution_count": 109,
      "outputs": [
        {
          "output_type": "execute_result",
          "data": {
            "text/plain": [
              "(9, 9)"
            ]
          },
          "metadata": {
            "tags": []
          },
          "execution_count": 109
        }
      ]
    },
    {
      "cell_type": "code",
      "metadata": {
        "colab": {
          "base_uri": "https://localhost:8080/"
        },
        "id": "PB80bjklfQQZ",
        "outputId": "e0f6b898-91d5-48b3-94aa-abc64836f64b"
      },
      "source": [
        "f_mean = np.ones(9)\n",
        "f_mean"
      ],
      "execution_count": 110,
      "outputs": [
        {
          "output_type": "execute_result",
          "data": {
            "text/plain": [
              "array([1., 1., 1., 1., 1., 1., 1., 1., 1.])"
            ]
          },
          "metadata": {
            "tags": []
          },
          "execution_count": 110
        }
      ]
    },
    {
      "cell_type": "code",
      "metadata": {
        "colab": {
          "base_uri": "https://localhost:8080/"
        },
        "id": "5Kurow2rgjGD",
        "outputId": "ab72046b-d2e5-4fc5-bcdb-3fa57d57e1e1"
      },
      "source": [
        "f_mean1 = np.reshape(f_mean, (3,3))\n",
        "f_mean1"
      ],
      "execution_count": 111,
      "outputs": [
        {
          "output_type": "execute_result",
          "data": {
            "text/plain": [
              "array([[1., 1., 1.],\n",
              "       [1., 1., 1.],\n",
              "       [1., 1., 1.]])"
            ]
          },
          "metadata": {
            "tags": []
          },
          "execution_count": 111
        }
      ]
    },
    {
      "cell_type": "code",
      "metadata": {
        "id": "Vur6mlQYhGp8"
      },
      "source": [
        "kolomA = A.shape[1]\n",
        "barisA = A.shape[0]\n",
        "kolomM = f_mean1.shape[1]\n",
        "barisM = f_mean1.shape[0]"
      ],
      "execution_count": 112,
      "outputs": []
    },
    {
      "cell_type": "code",
      "metadata": {
        "id": "7Dnp5X1KvEQ7"
      },
      "source": [
        "Out = []\n",
        "for i in range(0, barisA - barisM + 1):\n",
        "  kolomO = []\n",
        "  for j in range(0, kolomA - kolomM + 1):\n",
        "    kolomO.append(np.sum(A[i:i+3,j:j+3]))\n",
        "  Out.append(kolomO)"
      ],
      "execution_count": 113,
      "outputs": []
    },
    {
      "cell_type": "code",
      "metadata": {
        "colab": {
          "base_uri": "https://localhost:8080/"
        },
        "id": "F9ka2iBq1v6h",
        "outputId": "ff884223-1f88-4ed6-96ad-bbacf75432e3"
      },
      "source": [
        "A[2:5,2:5]"
      ],
      "execution_count": 114,
      "outputs": [
        {
          "output_type": "execute_result",
          "data": {
            "text/plain": [
              "array([[ 5, 11,  1],\n",
              "       [15,  9,  4],\n",
              "       [13, 14,  9]])"
            ]
          },
          "metadata": {
            "tags": []
          },
          "execution_count": 114
        }
      ]
    },
    {
      "cell_type": "code",
      "metadata": {
        "colab": {
          "base_uri": "https://localhost:8080/"
        },
        "id": "9cbDMTXwxLbt",
        "outputId": "19c1d8af-1fca-4f08-e79e-6e384dbfc866"
      },
      "source": [
        "O = np.reshape(Out, (7,7))\n",
        "print(O)"
      ],
      "execution_count": 115,
      "outputs": [
        {
          "output_type": "stream",
          "text": [
            "[[48 60 60 87 85 88 87]\n",
            " [62 70 63 74 78 94 95]\n",
            " [66 80 81 76 72 91 91]\n",
            " [70 73 71 62 56 79 91]\n",
            " [59 64 70 67 55 74 79]\n",
            " [47 51 54 66 62 81 80]\n",
            " [58 54 61 61 68 87 92]]\n"
          ],
          "name": "stdout"
        }
      ]
    }
  ]
}